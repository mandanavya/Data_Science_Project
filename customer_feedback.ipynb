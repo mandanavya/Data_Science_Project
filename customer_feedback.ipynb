{
 "cells": [
  {
   "cell_type": "code",
   "execution_count": 3,
   "metadata": {},
   "outputs": [],
   "source": [
    "import pandas as pd"
   ]
  },
  {
   "cell_type": "code",
   "execution_count": 4,
   "metadata": {},
   "outputs": [],
   "source": [
    "# Load the CSV file (update 'your_file.csv' with the actual file path)\n",
    "df = pd.read_csv('customer_feedback.csv')\n",
    "\n",
    "\n",
    "df['nps_score'] = df['nps_score'].fillna(0)\n",
    "df['avg_nps_rating'] = df['avg_nps_rating'].fillna(df['avg_nps_rating'].mean())\n",
    "\n"
   ]
  },
  {
   "cell_type": "code",
   "execution_count": 10,
   "metadata": {},
   "outputs": [
    {
     "name": "stdout",
     "output_type": "stream",
     "text": [
      "                  id  score_date  csat_score  csat_response_rate  nps_score  \\\n",
      "0       JMAN_2429072  10-02-2023         100                  33        0.0   \n",
      "1       JMAN_9043466  13-01-2023         100                  17        0.0   \n",
      "2       JMAN_2452556  24-02-2023           0                   0        0.0   \n",
      "3       JMAN_2455113  03-03-2023           0                   0        0.0   \n",
      "4      JMAN_18127937  10-02-2023           0                   0        0.0   \n",
      "...              ...         ...         ...                 ...        ...   \n",
      "13412  JMAN_16222667  06-01-2023           0                   0        0.0   \n",
      "13413   JMAN_2475820  10-02-2023           0                   0        0.0   \n",
      "13414   JMAN_9014565  17-03-2023           0                   0        0.0   \n",
      "13415  JMAN_18362858  24-03-2023           0                   0        0.0   \n",
      "13416   JMAN_2456281  24-03-2023           0                   0        0.0   \n",
      "\n",
      "       nps_score_all_time  avg_nps_rating  avg_nps_rating_all_time  \\\n",
      "0                     NaN        6.782406                 7.286464   \n",
      "1                     NaN        6.782406                 7.286464   \n",
      "2                     NaN        6.782406                 7.286464   \n",
      "3                     NaN        6.782406                 7.286464   \n",
      "4                     NaN        6.782406                 7.286464   \n",
      "...                   ...             ...                      ...   \n",
      "13412                 NaN        6.782406                 7.286464   \n",
      "13413                 NaN        6.782406                 7.286464   \n",
      "13414                 NaN        6.782406                 7.286464   \n",
      "13415                 NaN        6.782406                 7.286464   \n",
      "13416                 NaN        6.782406                 7.286464   \n",
      "\n",
      "       outreach_call_90dayflag  num_low_sev_outages  num_high_sev_outages  \\\n",
      "0                        False                    0                     0   \n",
      "1                        False                    0                     0   \n",
      "2                        False                   15                     1   \n",
      "3                        False                    7                     0   \n",
      "4                        False                    0                     0   \n",
      "...                        ...                  ...                   ...   \n",
      "13412                    False                    0                     0   \n",
      "13413                    False                   10                     1   \n",
      "13414                    False                   10                     0   \n",
      "13415                    False                    0                     0   \n",
      "13416                    False                    8                     0   \n",
      "\n",
      "       has_high_sev_outage  months_since_high_sev_outage  \\\n",
      "0                        0                          20.0   \n",
      "1                        0                          19.0   \n",
      "2                        1                           0.0   \n",
      "3                        0                           4.0   \n",
      "4                        0                           NaN   \n",
      "...                    ...                           ...   \n",
      "13412                    0                           NaN   \n",
      "13413                    1                           0.0   \n",
      "13414                    0                          12.0   \n",
      "13415                    0                           NaN   \n",
      "13416                    0                          12.0   \n",
      "\n",
      "       num_tickets_deflected  max_tickets_per_agent  \n",
      "0                         72                     58  \n",
      "1                          0                     68  \n",
      "2                          0                      0  \n",
      "3                          0                      9  \n",
      "4                          0                      0  \n",
      "...                      ...                    ...  \n",
      "13412                      0                      0  \n",
      "13413                      0                      0  \n",
      "13414                      0                      0  \n",
      "13415                      0                      0  \n",
      "13416                      0                     12  \n",
      "\n",
      "[13417 rows x 15 columns]\n",
      "Data cleaning completed successfully!\n"
     ]
    },
    {
     "name": "stderr",
     "output_type": "stream",
     "text": [
      "C:\\Users\\dastagir2k\\AppData\\Local\\Temp\\ipykernel_9664\\1736573157.py:2: FutureWarning: A value is trying to be set on a copy of a DataFrame or Series through chained assignment using an inplace method.\n",
      "The behavior will change in pandas 3.0. This inplace method will never work because the intermediate object on which we are setting values always behaves as a copy.\n",
      "\n",
      "For example, when doing 'df[col].method(value, inplace=True)', try using 'df.method({col: value}, inplace=True)' or df[col] = df[col].method(value) instead, to perform the operation inplace on the original object.\n",
      "\n",
      "\n",
      "  df['avg_nps_rating'].fillna(df['avg_nps_rating'].mean(), inplace=True)\n",
      "C:\\Users\\dastagir2k\\AppData\\Local\\Temp\\ipykernel_9664\\1736573157.py:3: FutureWarning: A value is trying to be set on a copy of a DataFrame or Series through chained assignment using an inplace method.\n",
      "The behavior will change in pandas 3.0. This inplace method will never work because the intermediate object on which we are setting values always behaves as a copy.\n",
      "\n",
      "For example, when doing 'df[col].method(value, inplace=True)', try using 'df.method({col: value}, inplace=True)' or df[col] = df[col].method(value) instead, to perform the operation inplace on the original object.\n",
      "\n",
      "\n",
      "  df['avg_nps_rating_all_time'].fillna(df['avg_nps_rating_all_time'].mean(), inplace=True)\n"
     ]
    }
   ],
   "source": [
    "\n",
    "# Replace missing values in 'avg_nps_rating' and 'avg_nps_rating_all_time' with their mean\n",
    "df['avg_nps_rating'].fillna(df['avg_nps_rating'].mean(), inplace=True)\n",
    "df['avg_nps_rating_all_time'].fillna(df['avg_nps_rating_all_time'].mean(), inplace=True)\n",
    "\n",
    "# Convert categorical values if needed (e.g., convert 'outreach_call_90dayflag' to boolean)\n",
    "df['outreach_call_90dayflag'] = df['outreach_call_90dayflag'].astype(bool)\n",
    "\n",
    "# Ensure numeric columns are in correct format\n",
    "numeric_columns = ['csat_score', 'nps_score', 'nps_score_all_time', 'avg_nps_rating', 'avg_nps_rating_all_time', 'num_low_sev_outages', 'max_tickets_per_agent']\n",
    "df[numeric_columns] = df[numeric_columns].apply(pd.to_numeric, errors='coerce')\n",
    "\n",
    "# Save the cleaned data\n",
    "df.to_csv('cleaned_data.csv', index=False)\n",
    "\n",
    "# Display cleaned data\n",
    "df.head()\n",
    "\n",
    "print(df)\n",
    "print(\"Data cleaning completed successfully!\")"
   ]
  }
 ],
 "metadata": {
  "kernelspec": {
   "display_name": "venv",
   "language": "python",
   "name": "python3"
  },
  "language_info": {
   "codemirror_mode": {
    "name": "ipython",
    "version": 3
   },
   "file_extension": ".py",
   "mimetype": "text/x-python",
   "name": "python",
   "nbconvert_exporter": "python",
   "pygments_lexer": "ipython3",
   "version": "3.13.2"
  }
 },
 "nbformat": 4,
 "nbformat_minor": 2
}
