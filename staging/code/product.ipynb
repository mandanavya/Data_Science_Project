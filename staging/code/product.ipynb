{
 "cells": [
  {
   "cell_type": "markdown",
   "metadata": {},
   "source": [
    "# Data Preprocessing Tools"
   ]
  },
  {
   "cell_type": "markdown",
   "metadata": {},
   "source": [
    "## Importing the libraries"
   ]
  },
  {
   "cell_type": "code",
   "execution_count": 44,
   "metadata": {},
   "outputs": [],
   "source": [
    "import numpy as np\n",
    "import pandas as pd"
   ]
  },
  {
   "cell_type": "markdown",
   "metadata": {},
   "source": [
    "## Importing the dataset"
   ]
  },
  {
   "cell_type": "code",
   "execution_count": 45,
   "metadata": {},
   "outputs": [],
   "source": [
    "dataset = pd.read_csv(\"../../raw/product.csv\")\n",
    "headers = list(dataset.columns)\n",
    "X = dataset.iloc[:, :].values"
   ]
  },
  {
   "cell_type": "code",
   "execution_count": 46,
   "metadata": {},
   "outputs": [
    {
     "name": "stdout",
     "output_type": "stream",
     "text": [
      "[['JMAN_2429072' '10-02-2023' 0.0 ... 100 100 0]\n",
      " ['JMAN_9043466' '13-01-2023' 0.0 ... 100 100 0]\n",
      " ['JMAN_2452556' '24-02-2023' 0.0 ... 100 100 0]\n",
      " ...\n",
      " ['JMAN_9014565' '17-03-2023' 0.0 ... 100 100 0]\n",
      " ['JMAN_18362858' '24-03-2023' 0.0 ... 100 100 0]\n",
      " ['JMAN_2456281' '24-03-2023' 0.0 ... 100 100 0]]\n"
     ]
    }
   ],
   "source": [
    "print(X)"
   ]
  },
  {
   "cell_type": "markdown",
   "metadata": {},
   "source": [
    "## Formatting date column  "
   ]
  },
  {
   "cell_type": "code",
   "execution_count": 47,
   "metadata": {},
   "outputs": [],
   "source": [
    "\n",
    "\n",
    "X[:, 1] = pd.to_datetime(X[:, 1], format=\"%d-%m-%Y\")"
   ]
  },
  {
   "cell_type": "code",
   "execution_count": 48,
   "metadata": {},
   "outputs": [
    {
     "name": "stdout",
     "output_type": "stream",
     "text": [
      "[['JMAN_2429072' Timestamp('2023-02-10 00:00:00') 0.0 ... 100 100 0]\n",
      " ['JMAN_9043466' Timestamp('2023-01-13 00:00:00') 0.0 ... 100 100 0]\n",
      " ['JMAN_2452556' Timestamp('2023-02-24 00:00:00') 0.0 ... 100 100 0]\n",
      " ...\n",
      " ['JMAN_9014565' Timestamp('2023-03-17 00:00:00') 0.0 ... 100 100 0]\n",
      " ['JMAN_18362858' Timestamp('2023-03-24 00:00:00') 0.0 ... 100 100 0]\n",
      " ['JMAN_2456281' Timestamp('2023-03-24 00:00:00') 0.0 ... 100 100 0]]\n"
     ]
    }
   ],
   "source": [
    "print(X)"
   ]
  },
  {
   "cell_type": "markdown",
   "metadata": {},
   "source": [
    "## Taking care of missing data"
   ]
  },
  {
   "cell_type": "code",
   "execution_count": 49,
   "metadata": {},
   "outputs": [],
   "source": [
    "from sklearn.impute import SimpleImputer\n",
    "imputer = SimpleImputer(missing_values=np.nan, strategy='mean')\n",
    "imputer.fit(X[:, 2:])\n",
    "X[:, 2:] = imputer.transform(X[:, 2:])"
   ]
  },
  {
   "cell_type": "code",
   "execution_count": 50,
   "metadata": {},
   "outputs": [
    {
     "name": "stdout",
     "output_type": "stream",
     "text": [
      "[['JMAN_2429072' Timestamp('2023-02-10 00:00:00') 0.0 ... 100.0 100.0 0.0]\n",
      " ['JMAN_9043466' Timestamp('2023-01-13 00:00:00') 0.0 ... 100.0 100.0 0.0]\n",
      " ['JMAN_2452556' Timestamp('2023-02-24 00:00:00') 0.0 ... 100.0 100.0 0.0]\n",
      " ...\n",
      " ['JMAN_9014565' Timestamp('2023-03-17 00:00:00') 0.0 ... 100.0 100.0 0.0]\n",
      " ['JMAN_18362858' Timestamp('2023-03-24 00:00:00') 0.0 ... 100.0 100.0\n",
      "  0.0]\n",
      " ['JMAN_2456281' Timestamp('2023-03-24 00:00:00') 0.0 ... 100.0 100.0 0.0]]\n"
     ]
    }
   ],
   "source": [
    "print(X)"
   ]
  },
  {
   "cell_type": "markdown",
   "metadata": {},
   "source": [
    "## Convert back to CSV"
   ]
  },
  {
   "cell_type": "code",
   "execution_count": 51,
   "metadata": {},
   "outputs": [],
   "source": [
    "df_imputed = pd.DataFrame(X, columns=headers)\n",
    "\n",
    "df_imputed.to_csv(\"../data_set/cleaned_product.csv\", index=False)"
   ]
  }
 ],
 "metadata": {
  "kernelspec": {
   "display_name": ".venv",
   "language": "python",
   "name": "python3"
  },
  "language_info": {
   "codemirror_mode": {
    "name": "ipython",
    "version": 3
   },
   "file_extension": ".py",
   "mimetype": "text/x-python",
   "name": "python",
   "nbconvert_exporter": "python",
   "pygments_lexer": "ipython3",
   "version": "3.10.11"
  }
 },
 "nbformat": 4,
 "nbformat_minor": 2
}
