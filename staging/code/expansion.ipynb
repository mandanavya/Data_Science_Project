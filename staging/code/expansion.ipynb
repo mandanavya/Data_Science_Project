{
 "cells": [
  {
   "cell_type": "code",
   "execution_count": 2,
   "metadata": {},
   "outputs": [
    {
     "name": "stdout",
     "output_type": "stream",
     "text": [
      "Original Data:\n",
      "              id  score_date  current_arr  future_arr  arr_change  fx_impact  \\\n",
      "0   JMAN_2429072  10-02-2023      2976.00     2976.00        0.00       0.00   \n",
      "1   JMAN_9043466  13-01-2023     20724.72    21474.84      499.56     250.56   \n",
      "2   JMAN_2452556  24-02-2023       605.76      817.80      181.92      30.12   \n",
      "3   JMAN_2455113  03-03-2023       300.00      300.00        0.00       0.00   \n",
      "4  JMAN_18127937  10-02-2023      2100.00      420.00    -1680.00       0.00   \n",
      "\n",
      "   seat_change_arr  product_change_arr  \n",
      "0              0.0                0.00  \n",
      "1              0.0              499.56  \n",
      "2              0.0                0.00  \n",
      "3              0.0                0.00  \n",
      "4          -1680.0                0.00  \n",
      "\n",
      "Cleaned Data:\n",
      "              id score_date  current_arr  future_arr  arr_change  fx_impact  \\\n",
      "0   JMAN_2429072 2023-02-10      2976.00     2976.00        0.00       0.00   \n",
      "1   JMAN_9043466 2023-01-13     20724.72    21474.84      499.56     250.56   \n",
      "2   JMAN_2452556 2023-02-24       605.76      817.80      181.92      30.12   \n",
      "3   JMAN_2455113 2023-03-03       300.00      300.00        0.00       0.00   \n",
      "4  JMAN_18127937 2023-02-10      2100.00      420.00    -1680.00       0.00   \n",
      "\n",
      "   seat_change_arr  product_change_arr  \n",
      "0              0.0                0.00  \n",
      "1              0.0              499.56  \n",
      "2              0.0                0.00  \n",
      "3              0.0                0.00  \n",
      "4          -1680.0                0.00  \n",
      "Data cleaning completed successfully!\n"
     ]
    }
   ],
   "source": [
    "import pandas as pd\n",
    "import os\n",
    " \n",
    "# Load the CSV file\n",
    "df = pd.read_csv('expansion_outcome.csv')\n",
    " \n",
    "# Display the first few rows of the dataframe to understand its structure\n",
    "print(\"Original Data:\")\n",
    "print(df.head())\n",
    " \n",
    "# Clean the data\n",
    "# Fill missing values with the mean, median, or mode\n",
    "for column in df.columns:\n",
    "    if df[column].dtype == 'object':\n",
    "        # Fill missing values with the mode for categorical columns\n",
    "        df[column] = df[column].fillna(df[column].mode()[0])\n",
    "    else:\n",
    "        # Fill missing values with the mean for numerical columns\n",
    "        df[column] = df[column].fillna(df[column].mean())\n",
    " \n",
    "# Remove duplicate rows\n",
    "df_cleaned = df.drop_duplicates()\n",
    " \n",
    "# Convert score_date to datetime format\n",
    "df_cleaned['score_date'] = pd.to_datetime(df_cleaned['score_date'], format='%d-%m-%Y')\n",
    " \n",
    "# Display the cleaned data\n",
    "print(\"\\nCleaned Data:\")\n",
    "print(df_cleaned.head())\n",
    " \n",
    "# Ensure the directory exists\n",
    "output_dir = 'files'\n",
    "if not os.path.exists(output_dir):\n",
    "    os.makedirs(output_dir)\n",
    " \n",
    "# Save the cleaned data to a new CSV file\n",
    "output_path = os.path.join(output_dir, 'cleaned_expansion.csv')\n",
    "df_cleaned.to_csv(output_path, index=False)\n",
    " \n",
    "print(\"Data cleaning completed successfully!\")\n",
    " "
   ]
  }
 ],
 "metadata": {
  "kernelspec": {
   "display_name": "Python 3",
   "language": "python",
   "name": "python3"
  },
  "language_info": {
   "codemirror_mode": {
    "name": "ipython",
    "version": 3
   },
   "file_extension": ".py",
   "mimetype": "text/x-python",
   "name": "python",
   "nbconvert_exporter": "python",
   "pygments_lexer": "ipython3",
   "version": "3.12.9"
  }
 },
 "nbformat": 4,
 "nbformat_minor": 2
}
